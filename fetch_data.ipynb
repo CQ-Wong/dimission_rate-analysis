{
 "cells": [
  {
   "cell_type": "code",
   "execution_count": 2,
   "metadata": {},
   "outputs": [],
   "source": [
    "from db.session import SessionReadUncommitted\n",
    "from sqlalchemy import select\n",
    "from models.hr import ResignedEmployeeBaishiPO,EmployeeBaishiPO\n",
    "from datetime import date\n",
    "from sqlalchemy import and_\n",
    "import pandas as pd"
   ]
  },
  {
   "cell_type": "code",
   "execution_count": 9,
   "metadata": {},
   "outputs": [],
   "source": [
    "test_date = date(2022,1, 1)\n",
    "test_date_1 = date(2023,1, 1)"
   ]
  },
  {
   "cell_type": "code",
   "execution_count": 10,
   "metadata": {},
   "outputs": [],
   "source": [
    "with SessionReadUncommitted() as session:\n",
    "    select_stmt = (\n",
    "        select(\n",
    "            ResignedEmployeeBaishiPO\n",
    "        ).where(\n",
    "                and_(ResignedEmployeeBaishiPO.per_outrq >= test_date_1)\n",
    "            )\n",
    "    )\n",
    "    res = session.execute(select_stmt).scalars().all()"
   ]
  },
  {
   "cell_type": "code",
   "execution_count": 3,
   "metadata": {},
   "outputs": [],
   "source": [
    "with SessionReadUncommitted() as session:\n",
    "    select_stmt = (\n",
    "        select(\n",
    "            EmployeeBaishiPO\n",
    "        )\n",
    "    )\n",
    "    res_zaizhi = session.execute(select_stmt).scalars().all()"
   ]
  },
  {
   "cell_type": "code",
   "execution_count": 11,
   "metadata": {},
   "outputs": [
    {
     "data": {
      "text/plain": [
       "35089"
      ]
     },
     "execution_count": 11,
     "metadata": {},
     "output_type": "execute_result"
    }
   ],
   "source": [
    "len(res)"
   ]
  },
  {
   "cell_type": "code",
   "execution_count": 12,
   "metadata": {},
   "outputs": [],
   "source": [
    "res__dict = [d.dict() for d in res]"
   ]
  },
  {
   "cell_type": "code",
   "execution_count": 13,
   "metadata": {},
   "outputs": [],
   "source": [
    "data = pd.DataFrame(res__dict)"
   ]
  },
  {
   "cell_type": "code",
   "execution_count": 14,
   "metadata": {},
   "outputs": [],
   "source": [
    "data.to_csv(\"lz_20230617.csv\")"
   ]
  },
  {
   "cell_type": "code",
   "execution_count": 3,
   "metadata": {},
   "outputs": [],
   "source": [
    "with SessionReadUncommitted() as session:\n",
    "    select_stmt = (\n",
    "        select(\n",
    "            ResignedEmployeeBaishiPO\n",
    "        ).where(\n",
    "                and_(ResignedEmployeeBaishiPO.per_sfzh == \"45272419781013004X\")\n",
    "            )\n",
    "    )\n",
    "    res = session.execute(select_stmt).scalars().all()"
   ]
  },
  {
   "cell_type": "code",
   "execution_count": 4,
   "metadata": {},
   "outputs": [
    {
     "name": "stdout",
     "output_type": "stream",
     "text": [
      "{'ryid': 287089, 'per_gh': '287089              ', 'per_xm': '韦正棉              ', 'per_sfzh': '45272419781013004X', 'per_lzrq': datetime.datetime(2013, 11, 17, 0, 0), 'per_outrq': datetime.datetime(2019, 11, 25, 0, 0), 'per_outfs': '外调      ', 'per_jxfs': '精密', 'int_zhiji': None, 'per_zw': '质检员              ', 'syb_id': '1201', 'per_syb': 'A事业一部           ', 'dpt_id': '12001', 'per_dpt': 'A12-1厂             ', 'zhu_id': '1200109', 'per_zhu': '支援                '}\n",
      "{'ryid': 31284216, 'per_gh': '31284216            ', 'per_xm': '韦正棉              ', 'per_sfzh': '45272419781013004X', 'per_lzrq': datetime.datetime(2022, 6, 11, 0, 0), 'per_outrq': datetime.datetime(2022, 6, 21, 0, 0), 'per_outfs': '外调      ', 'per_jxfs': '精密', 'int_zhiji': '6', 'per_zw': '普工                ', 'syb_id': '1201', 'per_syb': 'A事业一部', 'dpt_id': '12001', 'per_dpt': 'A12-1厂             ', 'zhu_id': '1200106', 'per_zhu': '其他园区            '}\n",
      "{'ryid': 1242083, 'per_gh': '1242083             ', 'per_xm': '韦正棉              ', 'per_sfzh': '45272419781013004X', 'per_lzrq': datetime.datetime(2021, 10, 23, 0, 0), 'per_outrq': datetime.datetime(2022, 1, 6, 0, 0), 'per_outfs': '外调      ', 'per_jxfs': '精密', 'int_zhiji': '6', 'per_zw': '普工                ', 'syb_id': '1201', 'per_syb': 'A事业一部           ', 'dpt_id': '12001', 'per_dpt': 'A12-1厂             ', 'zhu_id': '1200106', 'per_zhu': '其他园区            '}\n",
      "{'ryid': 31288974, 'per_gh': '31288974            ', 'per_xm': '韦正棉              ', 'per_sfzh': '45272419781013004X', 'per_lzrq': datetime.datetime(2013, 11, 17, 0, 0), 'per_outrq': datetime.datetime(2022, 9, 6, 0, 0), 'per_outfs': '外调      ', 'per_jxfs': '精密', 'int_zhiji': '6', 'per_zw': '普工                ', 'syb_id': '1201', 'per_syb': 'A事业一部', 'dpt_id': '12001', 'per_dpt': 'A12-1厂             ', 'zhu_id': '1200106', 'per_zhu': '其他园区            '}\n"
     ]
    }
   ],
   "source": [
    "for r in res:\n",
    "    print(r.dict())"
   ]
  },
  {
   "cell_type": "code",
   "execution_count": null,
   "metadata": {},
   "outputs": [],
   "source": []
  }
 ],
 "metadata": {
  "kernelspec": {
   "display_name": ".venv",
   "language": "python",
   "name": "python3"
  },
  "language_info": {
   "codemirror_mode": {
    "name": "ipython",
    "version": 3
   },
   "file_extension": ".py",
   "mimetype": "text/x-python",
   "name": "python",
   "nbconvert_exporter": "python",
   "pygments_lexer": "ipython3",
   "version": "3.9.12"
  },
  "orig_nbformat": 4
 },
 "nbformat": 4,
 "nbformat_minor": 2
}
